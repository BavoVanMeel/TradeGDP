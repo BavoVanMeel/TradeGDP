{
 "cells": [
  {
   "cell_type": "code",
   "execution_count": 1,
   "id": "95e2c6d9-d23b-4570-9f62-60d6a3db56b1",
   "metadata": {},
   "outputs": [
    {
     "ename": "ModuleNotFoundError",
     "evalue": "No module named 'pyspark'",
     "output_type": "error",
     "traceback": [
      "\u001b[1;31m---------------------------------------------------------------------------\u001b[0m",
      "\u001b[1;31mModuleNotFoundError\u001b[0m                       Traceback (most recent call last)",
      "\u001b[1;32m<ipython-input-1-112721251d16>\u001b[0m in \u001b[0;36m<module>\u001b[1;34m\u001b[0m\n\u001b[0;32m      2\u001b[0m \u001b[1;32mimport\u001b[0m \u001b[0mmatplotlib\u001b[0m \u001b[1;32mas\u001b[0m \u001b[0mplt\u001b[0m\u001b[1;33m\u001b[0m\u001b[1;33m\u001b[0m\u001b[0m\n\u001b[0;32m      3\u001b[0m \u001b[1;32mfrom\u001b[0m \u001b[0mmatplotlib\u001b[0m\u001b[1;33m.\u001b[0m\u001b[0mpyplot\u001b[0m \u001b[1;32mimport\u001b[0m \u001b[0mfigure\u001b[0m\u001b[1;33m\u001b[0m\u001b[1;33m\u001b[0m\u001b[0m\n\u001b[1;32m----> 4\u001b[1;33m \u001b[1;32mfrom\u001b[0m \u001b[0mpyspark\u001b[0m\u001b[1;33m.\u001b[0m\u001b[0msql\u001b[0m \u001b[1;32mimport\u001b[0m \u001b[0mSparkSession\u001b[0m\u001b[1;33m\u001b[0m\u001b[1;33m\u001b[0m\u001b[0m\n\u001b[0m\u001b[0;32m      5\u001b[0m \u001b[1;33m\u001b[0m\u001b[0m\n\u001b[0;32m      6\u001b[0m \u001b[1;31m# Creating a spark session.\u001b[0m\u001b[1;33m\u001b[0m\u001b[1;33m\u001b[0m\u001b[1;33m\u001b[0m\u001b[0m\n",
      "\u001b[1;31mModuleNotFoundError\u001b[0m: No module named 'pyspark'"
     ]
    }
   ],
   "source": [
    "import pandas as pd\n",
    "import matplotlib as plt\n",
    "from matplotlib.pyplot import figure\n",
    "\n",
    "TRADE_FILE_LOCATION = \"C:/Users/bavo1/Documents/Academiejaar 2021 - 2022/Data mining/Data/trade/commodity_trade_statistics_data.csv\"\n",
    "GDP_FILE_LOCATION = \"C:/Users/bavo1/Documents/Academiejaar 2021 - 2022/Data mining/Data/gdp/GDP.csv\"\n",
    "\n",
    "dfTrade = pd.read_csv(TRADE_FILE_LOCATION, dtype='unicode')\n",
    "dfGDP = pd.read_csv(GDP_FILE_LOCATION)\n",
    "\n",
    "# Remove rows where year < 1990. GDP dataset starts at 1990.\n",
    "dfTrade = dfTrade.drop(dfTrade.index[dfTrade['year'].isin(['1988', '1989'])])\n",
    "\n",
    "# Convert flow to numeric values\n",
    "dfTrade = pd.factorize(dfTrade, sort=True)\n",
    "print(dfTrade)"
   ]
  },
  {
   "cell_type": "code",
   "execution_count": null,
   "id": "4960c52c-bee8-4baa-ae10-1f2e43ddc011",
   "metadata": {},
   "outputs": [],
   "source": []
  }
 ],
 "metadata": {
  "kernelspec": {
   "display_name": "Python 3",
   "language": "python",
   "name": "python3"
  },
  "language_info": {
   "codemirror_mode": {
    "name": "ipython",
    "version": 3
   },
   "file_extension": ".py",
   "mimetype": "text/x-python",
   "name": "python",
   "nbconvert_exporter": "python",
   "pygments_lexer": "ipython3",
   "version": "3.8.8"
  }
 },
 "nbformat": 4,
 "nbformat_minor": 5
}
