{
 "cells": [
  {
   "cell_type": "code",
   "execution_count": 1,
   "id": "95e2c6d9-d23b-4570-9f62-60d6a3db56b1",
   "metadata": {},
   "outputs": [],
   "source": [
    "import pandas as pd\n",
    "import matplotlib as plt\n",
    "from matplotlib.pyplot import figure\n",
    "\n",
    "TRADE_FILE_LOCATION = \"C:/Users/bavo1/Documents/Academiejaar 2021 - 2022/Data mining/Data/trade/commodity_trade_statistics_data.csv\"\n",
    "GDP_FILE_LOCATION = \"C:/Users/bavo1/Documents/Academiejaar 2021 - 2022/Data mining/Data/gdp/GDP.csv\"\n",
    "\n",
    "dfTrade = pd.read_csv(TRADE_FILE_LOCATION, dtype='unicode')\n",
    "dfGDP = pd.read_csv(GDP_FILE_LOCATION)"
   ]
  }
 ],
 "metadata": {
  "kernelspec": {
   "display_name": "Python 3",
   "language": "python",
   "name": "python3"
  },
  "language_info": {
   "codemirror_mode": {
    "name": "ipython",
    "version": 3
   },
   "file_extension": ".py",
   "mimetype": "text/x-python",
   "name": "python",
   "nbconvert_exporter": "python",
   "pygments_lexer": "ipython3",
   "version": "3.8.8"
  }
 },
 "nbformat": 4,
 "nbformat_minor": 5
}
